{
 "cells": [
  {
   "cell_type": "code",
   "execution_count": 95,
   "metadata": {},
   "outputs": [],
   "source": [
    "# Summary -\n",
    "# - There are totally 59K touch gestures.\n",
    "# - Only ~22K (37%) touch gestures was clicked on a leaf element which had text content.\n",
    "# - Created text dataset in the following format\n",
    "#   - [[e11, e21, ... e1(MAX_TOKEN), e21, e22, ... e2(MAX_TOKEN), TARGET_TEXT],\n",
    "#      ...\n",
    "#     ]\n",
    "#   - Vectorized the dataset.\n",
    "# - Tried a simple classification model with a single hidden layer(1024).\n",
    "#   - Accuracy on train data : 48%\n",
    "#   - Accuracy on validation (20%) : 50%"
   ]
  },
  {
   "cell_type": "code",
   "execution_count": 96,
   "metadata": {},
   "outputs": [],
   "source": [
    "# import statements.\n",
    "import datetime\n",
    "import glob\n",
    "import json\n",
    "import numpy as np\n",
    "import os\n",
    "import PIL\n",
    "import tensorflow as tf\n",
    "import re\n",
    "import string\n",
    "from sklearn.model_selection import train_test_split\n",
    "import matplotlib.pyplot as plt"
   ]
  },
  {
   "cell_type": "code",
   "execution_count": 97,
   "metadata": {},
   "outputs": [],
   "source": [
    "# Constants.\n",
    "LONG_TOUCH_THRESHOLD = 5\n",
    "DIM_X = 1440\n",
    "DIM_Y = 2560\n",
    "MAX_TOKEN = 64\n",
    "BATCH_SIZE = 10000\n",
    "BUFFER_SIZE = 100\n",
    "VOCAB_SIZE = 500\n",
    "TRAIN_SIZE = 0.8\n",
    "VAL_SIZE = 0.1\n",
    "TEST_SIZE = 0.1\n",
    "TRACES_PATH = 'filtered_traces/*/*'\n",
    "NEGATIVE_SAMPLE_TARGET = '[null]'\n",
    "PLACEHOLDER_TEXT = 'n/a'\n",
    "y_true = []"
   ]
  },
  {
   "cell_type": "code",
   "execution_count": 98,
   "metadata": {},
   "outputs": [],
   "source": [
    "# Gets all leaf nodes for a given element.\n",
    "def get_leaf_nodes(element, leaf_nodes):\n",
    "    if not element:\n",
    "        return leaf_nodes\n",
    "    if 'children' not in element:\n",
    "        leaf_nodes.append(element)\n",
    "        return leaf_nodes\n",
    "    for child in element['children']:\n",
    "        get_leaf_nodes(child, leaf_nodes)\n",
    "    return leaf_nodes\n",
    "\n",
    "\n",
    "def get_all_leaf_nodes(view_hierarchy_json):\n",
    "    activity = view_hierarchy_json.get('activity')\n",
    "    if not activity:\n",
    "        return dataset\n",
    "    root = activity.get('root')\n",
    "    return get_leaf_nodes(root, [])\n",
    "\n",
    "\n",
    "def get_target_text(leaf_nodes, x, y):\n",
    "    target_text = None\n",
    "    for leaf_node in leaf_nodes:\n",
    "        bounds = leaf_node['bounds']\n",
    "        if bounds[0] <= x and bounds[2] >= x and bounds[1] <= y and bounds[3] >= y:\n",
    "            if 'text' in leaf_node:\n",
    "                target_text = leaf_node['text'] or leaf_node.get('text-hint')\n",
    "    return target_text\n",
    "\n",
    "\n",
    "def get_leaf_node_texts(leaf_nodes):\n",
    "    i = 1\n",
    "    element_texts = []\n",
    "    for leaf_node in leaf_nodes:\n",
    "        if 'text' in leaf_node:\n",
    "            text = leaf_node['text'] or leaf_node.get('text-hint')\n",
    "            element_texts.append(str(text))\n",
    "            i += 1\n",
    "            if i == MAX_TOKEN:\n",
    "                break\n",
    "    return element_texts\n",
    "\n",
    "\n",
    "# Identifies if a given gesture is a TOUCH gesture.\n",
    "# In this task, we will only be focussing on TOUCH gestures.\n",
    "def is_touch_gesture(gesture):\n",
    "    if len(gesture) <= LONG_TOUCH_THRESHOLD:\n",
    "        return True\n",
    "    return False"
   ]
  },
  {
   "cell_type": "code",
   "execution_count": 99,
   "metadata": {},
   "outputs": [
    {
     "name": "stdout",
     "output_type": "stream",
     "text": [
      "Number of touch gestures  59602\n",
      "Number of non-touch gestures  6659\n"
     ]
    }
   ],
   "source": [
    "dirs = glob.glob(TRACES_PATH)\n",
    "touch_gesture_count = 0\n",
    "non_touch_gesture_count = 0\n",
    "for d in dirs:\n",
    "  with open(f'{d}/gestures.json') as f:\n",
    "    gestures = json.load(f)\n",
    "    gestures = [gestures[x] for x in sorted(gestures, key=lambda x: int(x))]\n",
    "    for gesture in gestures:\n",
    "        if is_touch_gesture(gesture):\n",
    "            touch_gesture_count += 1\n",
    "        else:\n",
    "            non_touch_gesture_count += 1\n",
    "print('Number of touch gestures ', touch_gesture_count)\n",
    "print('Number of non-touch gestures ', non_touch_gesture_count)"
   ]
  },
  {
   "cell_type": "code",
   "execution_count": 100,
   "metadata": {},
   "outputs": [],
   "source": [
    "# Processes view hierarchies to construct dataset.\n",
    "# Extract texts from MAX_TOKEN elements from both view hierarchies.\n",
    "# Construct the dataset in the following format -\n",
    "# [[e11, e21, ... e1(MAX_TOKEN), e21, e22, ... e2(MAX_TOKEN), TARGET_TEXT], ...]\n",
    "def process_view_hierarchy(view_hierarchy1, view_hierarchy2, dataset, is_positive_sample = True):\n",
    "    if not view_hierarchy1 or not view_hierarchy2:\n",
    "        return dataset\n",
    "    \n",
    "    trace_path = view_hierarchy1.split('view_hierarchies')[0]\n",
    "    gesture_path = f'{trace_path}/gestures.json'\n",
    "    with open(gesture_path) as file:\n",
    "        gestures = json.load(file)\n",
    "\n",
    "    with open(view_hierarchy1) as file:\n",
    "        view_hierarchy1_json = json.load(file)\n",
    "    with open(view_hierarchy2) as file:\n",
    "        view_hierarchy2_json = json.load(file)\n",
    "    \n",
    "    if not view_hierarchy1_json or not view_hierarchy2_json:\n",
    "        return dataset\n",
    "\n",
    "    ui_number = view_hierarchy1.split('/')[-1].split('.')[0]\n",
    "    gesture = gestures[ui_number]\n",
    "    if not is_touch_gesture(gesture):\n",
    "        return dataset\n",
    "    \n",
    "    if not len(gesture):\n",
    "        return dataset\n",
    "    x_cord = gesture[0][0]\n",
    "    y_cord = gesture[0][1]\n",
    "    x = x_cord * DIM_X\n",
    "    y = y_cord * DIM_Y\n",
    "\n",
    "    leaf_nodes1 = get_all_leaf_nodes(view_hierarchy1_json)\n",
    "    leaf_nodes2 = get_all_leaf_nodes(view_hierarchy2_json)\n",
    "\n",
    "    target_text = get_target_text(leaf_nodes1, x, y)\n",
    "    if not target_text:\n",
    "        return dataset\n",
    "    \n",
    "    screen1_element = get_leaf_node_texts(leaf_nodes1)\n",
    "    screen2_element = get_leaf_node_texts(leaf_nodes2)\n",
    "\n",
    "    for i in range(len(screen1_element), MAX_TOKEN):\n",
    "        screen1_element.append(PLACEHOLDER_TEXT)\n",
    "    for i in range(len(screen2_element), MAX_TOKEN):\n",
    "        screen2_element.append(PLACEHOLDER_TEXT)\n",
    "\n",
    "    if is_positive_sample:\n",
    "        dataset.append(screen1_element + screen2_element)\n",
    "        y_true.append(1)\n",
    "    else:\n",
    "        dataset.append(screen1_element + screen2_element)\n",
    "        y_true.append(0)\n",
    "        \n",
    "    return dataset\n",
    "        \n",
    "\n",
    "def process_trace(trace_path, dataset):\n",
    "    view_hierarchies_path = f'{trace_path}/view_hierarchies/*'\n",
    "    view_hierarchies = sorted(glob.glob(view_hierarchies_path))\n",
    "    for i in range(len(view_hierarchies) - 1):\n",
    "        dataset = process_view_hierarchy(view_hierarchies[i], view_hierarchies[i+1], dataset)\n",
    "\n",
    "\n",
    "def add_negative_samples(dataset):\n",
    "    traces = sorted(glob.glob(TRACES_PATH))\n",
    "    total_positive_samples = len(dataset)\n",
    "    negative_samples_threshold = 1 * total_positive_samples\n",
    "    negative_samples_counter = 0\n",
    "    for i in range(len(traces) - 1):\n",
    "        trace_path1 = traces[i]\n",
    "        trace_path2 = traces[-i]\n",
    "        view_hierarchies1_path = sorted(glob.glob(f'{trace_path1}/view_hierarchies/*'))\n",
    "        view_hierarchies2_path = sorted(glob.glob(f'{trace_path2}/view_hierarchies/*'))\n",
    "        for (view_hierarchy1, view_hierarchy2) in zip(view_hierarchies1_path, view_hierarchies2_path):\n",
    "            dataset = process_view_hierarchy(view_hierarchy1, view_hierarchy2, dataset, False)\n",
    "            negative_samples_counter += 1\n",
    "            if negative_samples_counter >= negative_samples_threshold:\n",
    "                return dataset\n",
    "    return dataset\n",
    "\n",
    "\n",
    "dataset = []\n",
    "for trace_path in sorted(glob.glob(TRACES_PATH)):\n",
    "    process_trace(trace_path, dataset)\n",
    "\n",
    "dataset = add_negative_samples(dataset)"
   ]
  },
  {
   "cell_type": "code",
   "execution_count": 101,
   "metadata": {},
   "outputs": [
    {
     "name": "stdout",
     "output_type": "stream",
     "text": [
      "unique_words =  198807\n"
     ]
    }
   ],
   "source": [
    "# We create a custom standardization function to lowercase the text and \n",
    "# remove punctuation.\n",
    "def custom_standardization(input_data):\n",
    "  lowercase = tf.strings.lower(input_data)\n",
    "  return tf.strings.regex_replace(lowercase,\n",
    "                                  '[%s]' % re.escape(string.punctuation), '')\n",
    "\n",
    "# Define the number of words in a sequence.\n",
    "sequence_length = 1\n",
    "\n",
    "# Use the text vectorization layer to normalize, split, and map strings to\n",
    "# integers. Set output_sequence_length length to pad all samples to same length.\n",
    "vectorize_layer = tf.keras.layers.experimental.preprocessing.TextVectorization(\n",
    "    standardize=custom_standardization,\n",
    "    output_mode='int',\n",
    "    output_sequence_length=sequence_length)\n",
    "\n",
    "all_words = []\n",
    "for row in dataset:\n",
    "    for word in row[:-1]:\n",
    "        all_words.append(str(word))\n",
    "unique_words = set(all_words)\n",
    "print('unique_words = ',len(unique_words))\n",
    "vectorize_layer.adapt(list(unique_words))"
   ]
  },
  {
   "cell_type": "code",
   "execution_count": 102,
   "metadata": {},
   "outputs": [
    {
     "name": "stdout",
     "output_type": "stream",
     "text": [
      "['', '[UNK]', 'the', 'to', 'and', 'of', 'you', 'a', 'in', 'your', 'or', 'for', 'is', 'with', 'on', 'this', 'by', 'that', 'any', 'be']\n"
     ]
    },
    {
     "data": {
      "text/plain": [
       "123018"
      ]
     },
     "execution_count": 102,
     "metadata": {},
     "output_type": "execute_result"
    }
   ],
   "source": [
    "# Save the created vocabulary for reference.\n",
    "inverse_vocab = vectorize_layer.get_vocabulary()\n",
    "print(inverse_vocab[:20])\n",
    "len(inverse_vocab)"
   ]
  },
  {
   "cell_type": "code",
   "execution_count": 103,
   "metadata": {},
   "outputs": [],
   "source": [
    "# Vectorize the data.\n",
    "text_ds = tf.data.Dataset.from_tensor_slices(dataset)\n",
    "text_vector_ds = text_ds.map(vectorize_layer)"
   ]
  },
  {
   "cell_type": "code",
   "execution_count": 104,
   "metadata": {},
   "outputs": [
    {
     "name": "stdout",
     "output_type": "stream",
     "text": [
      "[  125  8628   384  2367  8628   384  2367   383   383  2367 28400 34968\n",
      " 13233 73848  2367  1370  1370  1370  1370  1370  1370  1370  1370  1370\n",
      "  1370  1370  1370  1370  1370  1370  1370  1370  1370  1370  1370  1370\n",
      "  1370  1370  1370  1370  1370  1370  1370  1370  1370  1370  1370  1370\n",
      "  1370  1370  1370  1370  1370  1370  1370  1370  1370  1370  1370  1370\n",
      "  1370  1370  1370  1370   207  1361   434   434   207    34   207    34\n",
      "   207    34  1370  1370  1370  1370  1370  1370  1370  1370  1370  1370\n",
      "  1370  1370  1370  1370  1370  1370  1370  1370  1370  1370  1370  1370\n",
      "  1370  1370  1370  1370  1370  1370  1370  1370  1370  1370  1370  1370\n",
      "  1370  1370  1370  1370  1370  1370  1370  1370  1370  1370  1370  1370\n",
      "  1370  1370  1370  1370  1370  1370  1370  1370] => ['settings', 'fancy', 'display', 'none', 'fancy', 'display', 'none', 'language', 'language', 'none', 'atrás', 'saltar', 'siguiente', 'settingsactivity', 'none', 'na', 'na', 'na', 'na', 'na', 'na', 'na', 'na', 'na', 'na', 'na', 'na', 'na', 'na', 'na', 'na', 'na', 'na', 'na', 'na', 'na', 'na', 'na', 'na', 'na', 'na', 'na', 'na', 'na', 'na', 'na', 'na', 'na', 'na', 'na', 'na', 'na', 'na', 'na', 'na', 'na', 'na', 'na', 'na', 'na', 'na', 'na', 'na', 'na', 'support', 'unable', 'remove', 'remove', 'support', 'if', 'support', 'if', 'support', 'if', 'na', 'na', 'na', 'na', 'na', 'na', 'na', 'na', 'na', 'na', 'na', 'na', 'na', 'na', 'na', 'na', 'na', 'na', 'na', 'na', 'na', 'na', 'na', 'na', 'na', 'na', 'na', 'na', 'na', 'na', 'na', 'na', 'na', 'na', 'na', 'na', 'na', 'na', 'na', 'na', 'na', 'na', 'na', 'na', 'na', 'na', 'na', 'na', 'na', 'na', 'na', 'na', 'na', 'na']\n",
      "[ 2117  4655   431  1090 82641 24884 20055   579 88559 20055   570 11303\n",
      " 27475  6500  6500  2934   125   207    66  1370  1370  1370  1370  1370\n",
      "  1370  1370  1370  1370  1370  1370  1370  1370  1370  1370  1370  1370\n",
      "  1370  1370  1370  1370  1370  1370  1370  1370  1370  1370  1370  1370\n",
      "  1370  1370  1370  1370  1370  1370  1370  1370  1370  1370  1370  1370\n",
      "  1370  1370  1370  1370  7360  1370  1370  1370  1370  1370  1370  1370\n",
      "  1370  1370  1370  1370  1370  1370  1370  1370  1370  1370  1370  1370\n",
      "  1370  1370  1370  1370  1370  1370  1370  1370  1370  1370  1370  1370\n",
      "  1370  1370  1370  1370  1370  1370  1370  1370  1370  1370  1370  1370\n",
      "  1370  1370  1370  1370  1370  1370  1370  1370  1370  1370  1370  1370\n",
      "  1370  1370  1370  1370  1370  1370  1370  1370] => ['pocket', 'constant', 'period', 'force', 'newtons', 'rigid', 'rotary', 'power', 'kinetic', 'rotary', 'center', 'harmonic', 'displacement', 'gravity', 'gravity', 'chapters', 'settings', 'support', 'about', 'na', 'na', 'na', 'na', 'na', 'na', 'na', 'na', 'na', 'na', 'na', 'na', 'na', 'na', 'na', 'na', 'na', 'na', 'na', 'na', 'na', 'na', 'na', 'na', 'na', 'na', 'na', 'na', 'na', 'na', 'na', 'na', 'na', 'na', 'na', 'na', 'na', 'na', 'na', 'na', 'na', 'na', 'na', 'na', 'na', 'linear', 'na', 'na', 'na', 'na', 'na', 'na', 'na', 'na', 'na', 'na', 'na', 'na', 'na', 'na', 'na', 'na', 'na', 'na', 'na', 'na', 'na', 'na', 'na', 'na', 'na', 'na', 'na', 'na', 'na', 'na', 'na', 'na', 'na', 'na', 'na', 'na', 'na', 'na', 'na', 'na', 'na', 'na', 'na', 'na', 'na', 'na', 'na', 'na', 'na', 'na', 'na', 'na', 'na', 'na', 'na', 'na', 'na', 'na', 'na', 'na', 'na', 'na', 'na']\n",
      "[  591  2367    35   128  4068 93232  1374   904 85185  2846    31  2367\n",
      "   217     7   378   334   681   487  1009   804  1400    32  1490  2216\n",
      "  1066   709   766   663  1545  2254   971   569  1374  1612  1034   723\n",
      "   735   175  2731  2731  1370  1370  1370  1370  1370  1370  1370  1370\n",
      "  1370  1370  1370  1370  1370  1370  1370  1370  1370  1370  1370  1370\n",
      "  1370  1370  1370  1370  4218   339   339    10   172  1370  1370  1370\n",
      "  1370  1370  1370  1370  1370  1370  1370  1370  1370  1370  1370  1370\n",
      "  1370  1370  1370  1370  1370  1370  1370  1370  1370  1370  1370  1370\n",
      "  1370  1370  1370  1370  1370  1370  1370  1370  1370  1370  1370  1370\n",
      "  1370  1370  1370  1370  1370  1370  1370  1370  1370  1370  1370  1370\n",
      "  1370  1370  1370  1370  1370  1370  1370  1370] => ['word', 'none', 'new', 'show', 'guess', 'hintलडाका', 't', 'answer', 'melanoma', 'chances', '1', 'none', 'next', 'a', 'b', 'c', 'd', 'e', 'f', 'g', 'h', 'i', 'j', 'k', 'l', 'm', 'n', 'o', 'p', 'q', 'r', 's', 't', 'u', 'v', 'w', 'x', 'y', 'z', 'z', 'na', 'na', 'na', 'na', 'na', 'na', 'na', 'na', 'na', 'na', 'na', 'na', 'na', 'na', 'na', 'na', 'na', 'na', 'na', 'na', 'na', 'na', 'na', 'na', 'hindi', 'login', 'login', 'or', 'try', 'na', 'na', 'na', 'na', 'na', 'na', 'na', 'na', 'na', 'na', 'na', 'na', 'na', 'na', 'na', 'na', 'na', 'na', 'na', 'na', 'na', 'na', 'na', 'na', 'na', 'na', 'na', 'na', 'na', 'na', 'na', 'na', 'na', 'na', 'na', 'na', 'na', 'na', 'na', 'na', 'na', 'na', 'na', 'na', 'na', 'na', 'na', 'na', 'na', 'na', 'na', 'na', 'na', 'na', 'na', 'na', 'na', 'na', 'na']\n",
      "[ 5666   173   410  2983   785  3152 72919  4255  1229   251   130    48\n",
      "   125   274  2367  2367  3107  2367  1370  1370  1370  1370  1370  1370\n",
      "  1370  1370  1370  1370  1370  1370  1370  1370  1370  1370  1370  1370\n",
      "  1370  1370  1370  1370  1370  1370  1370  1370  1370  1370  1370  1370\n",
      "  1370  1370  1370  1370  1370  1370  1370  1370  1370  1370  1370  1370\n",
      "  1370  1370  1370  1370  5666   173   410   410   410  2983   785  3152\n",
      " 72919  4255  1229   251   130    48  2367  2367  3107  2367  1370  1370\n",
      "  1370  1370  1370  1370  1370  1370  1370  1370  1370  1370  1370  1370\n",
      "  1370  1370  1370  1370  1370  1370  1370  1370  1370  1370  1370  1370\n",
      "  1370  1370  1370  1370  1370  1370  1370  1370  1370  1370  1370  1370\n",
      "  1370  1370  1370  1370  1370  1370  1370  1370] => ['dev', 'home', 'book', 'checkin', 'flight', 'reservation', 'skypass', 'baggage', 'worldwide', 'contact', 'news', 'terms', 'settings', 'log', 'none', 'none', 'mileage', 'none', 'na', 'na', 'na', 'na', 'na', 'na', 'na', 'na', 'na', 'na', 'na', 'na', 'na', 'na', 'na', 'na', 'na', 'na', 'na', 'na', 'na', 'na', 'na', 'na', 'na', 'na', 'na', 'na', 'na', 'na', 'na', 'na', 'na', 'na', 'na', 'na', 'na', 'na', 'na', 'na', 'na', 'na', 'na', 'na', 'na', 'na', 'dev', 'home', 'book', 'book', 'book', 'checkin', 'flight', 'reservation', 'skypass', 'baggage', 'worldwide', 'contact', 'news', 'terms', 'none', 'none', 'mileage', 'none', 'na', 'na', 'na', 'na', 'na', 'na', 'na', 'na', 'na', 'na', 'na', 'na', 'na', 'na', 'na', 'na', 'na', 'na', 'na', 'na', 'na', 'na', 'na', 'na', 'na', 'na', 'na', 'na', 'na', 'na', 'na', 'na', 'na', 'na', 'na', 'na', 'na', 'na', 'na', 'na', 'na', 'na', 'na', 'na', 'na', 'na']\n",
      "[  31   60  134   31   60 1370 1370 1370 1370 1370 1370 1370 1370 1370\n",
      " 1370 1370 1370 1370 1370 1370 1370 1370 1370 1370 1370 1370 1370 1370\n",
      " 1370 1370 1370 1370 1370 1370 1370 1370 1370 1370 1370 1370 1370 1370\n",
      " 1370 1370 1370 1370 1370 1370 1370 1370 1370 1370 1370 1370 1370 1370\n",
      " 1370 1370 1370 1370 1370 1370 1370 1370  697 1370 1370 1370 1370 1370\n",
      " 1370 1370 1370 1370 1370 1370 1370 1370 1370 1370 1370 1370 1370 1370\n",
      " 1370 1370 1370 1370 1370 1370 1370 1370 1370 1370 1370 1370 1370 1370\n",
      " 1370 1370 1370 1370 1370 1370 1370 1370 1370 1370 1370 1370 1370 1370\n",
      " 1370 1370 1370 1370 1370 1370 1370 1370 1370 1370 1370 1370 1370 1370\n",
      " 1370 1370] => ['1', '3', '6', '1', '3', 'na', 'na', 'na', 'na', 'na', 'na', 'na', 'na', 'na', 'na', 'na', 'na', 'na', 'na', 'na', 'na', 'na', 'na', 'na', 'na', 'na', 'na', 'na', 'na', 'na', 'na', 'na', 'na', 'na', 'na', 'na', 'na', 'na', 'na', 'na', 'na', 'na', 'na', 'na', 'na', 'na', 'na', 'na', 'na', 'na', 'na', 'na', 'na', 'na', 'na', 'na', 'na', 'na', 'na', 'na', 'na', 'na', 'na', 'na', 'currency', 'na', 'na', 'na', 'na', 'na', 'na', 'na', 'na', 'na', 'na', 'na', 'na', 'na', 'na', 'na', 'na', 'na', 'na', 'na', 'na', 'na', 'na', 'na', 'na', 'na', 'na', 'na', 'na', 'na', 'na', 'na', 'na', 'na', 'na', 'na', 'na', 'na', 'na', 'na', 'na', 'na', 'na', 'na', 'na', 'na', 'na', 'na', 'na', 'na', 'na', 'na', 'na', 'na', 'na', 'na', 'na', 'na', 'na', 'na', 'na', 'na', 'na', 'na']\n"
     ]
    }
   ],
   "source": [
    "sequences = list(text_vector_ds.as_numpy_iterator())\n",
    "sequences = np.squeeze(sequences)\n",
    "\n",
    "for seq in sequences[:5]:\n",
    "  print(f\"{seq} => {[inverse_vocab[i] for i in seq]}\")"
   ]
  },
  {
   "cell_type": "code",
   "execution_count": 105,
   "metadata": {},
   "outputs": [],
   "source": [
    "def map_to_dataset(sequences, inverse_vocab):\n",
    "    num_ns = len(inverse_vocab)\n",
    "    labels = []\n",
    "    input_data = []\n",
    "    for input_instance in sequences:\n",
    "        y = input_instance[-1:]\n",
    "        labels.append(y)\n",
    "        input_data.append(input_instance[:-1])\n",
    "#     categorized_labels = tf.keras.utils.to_categorical(labels, num_ns)\n",
    "    return tf.data.Dataset.from_tensor_slices((input_data, labels))"
   ]
  },
  {
   "cell_type": "code",
   "execution_count": 128,
   "metadata": {},
   "outputs": [],
   "source": [
    "y_true_reshaped = np.array(y_true).reshape(len(sequences), -1)\n",
    "sequences_stack = np.hstack((sequences, y_true_reshaped))\n",
    "train, test = train_test_split(sequences_stack, test_size=TEST_SIZE)\n",
    "train, val = train_test_split(sequences_stack, test_size=VAL_SIZE)"
   ]
  },
  {
   "cell_type": "code",
   "execution_count": 129,
   "metadata": {},
   "outputs": [],
   "source": [
    "BATCH_SIZE = 10000\n",
    "TAKE_SIZE = 100000\n",
    "train = map_to_dataset(train, inverse_vocab).take(TAKE_SIZE).batch(BATCH_SIZE)\n",
    "val = map_to_dataset(val, inverse_vocab).take(TAKE_SIZE).batch(BATCH_SIZE)\n",
    "test = map_to_dataset(test, inverse_vocab).take(TAKE_SIZE).batch(BATCH_SIZE)"
   ]
  },
  {
   "cell_type": "code",
   "execution_count": 130,
   "metadata": {},
   "outputs": [
    {
     "name": "stdout",
     "output_type": "stream",
     "text": [
      "Epoch 1/10\n",
      "2/3 [===================>..........] - ETA: 0s - loss: 0.5854 - binary_accuracy: 0.7279WARNING:tensorflow:Callbacks method `on_train_batch_end` is slow compared to the batch time (batch time: 0.1122s vs `on_train_batch_end` time: 0.4117s). Check your callbacks.\n",
      "3/3 [==============================] - 1s 300ms/step - loss: 0.5848 - binary_accuracy: 0.7284 - val_loss: 0.5774 - val_binary_accuracy: 0.7359\n",
      "Epoch 2/10\n",
      "3/3 [==============================] - 0s 56ms/step - loss: 0.5848 - binary_accuracy: 0.7284 - val_loss: 0.5774 - val_binary_accuracy: 0.7359\n",
      "Epoch 3/10\n",
      "3/3 [==============================] - 0s 55ms/step - loss: 0.5848 - binary_accuracy: 0.7284 - val_loss: 0.5774 - val_binary_accuracy: 0.7359\n",
      "Epoch 4/10\n",
      "3/3 [==============================] - 0s 69ms/step - loss: 0.5848 - binary_accuracy: 0.7284 - val_loss: 0.5774 - val_binary_accuracy: 0.7359\n",
      "Epoch 5/10\n",
      "3/3 [==============================] - 0s 55ms/step - loss: 0.5848 - binary_accuracy: 0.7284 - val_loss: 0.5774 - val_binary_accuracy: 0.7359\n",
      "Epoch 6/10\n",
      "3/3 [==============================] - 0s 57ms/step - loss: 0.5848 - binary_accuracy: 0.7284 - val_loss: 0.5774 - val_binary_accuracy: 0.7359\n",
      "Epoch 7/10\n",
      "3/3 [==============================] - 0s 52ms/step - loss: 0.5848 - binary_accuracy: 0.7284 - val_loss: 0.5774 - val_binary_accuracy: 0.7359\n",
      "Epoch 8/10\n",
      "3/3 [==============================] - 0s 50ms/step - loss: 0.5848 - binary_accuracy: 0.7284 - val_loss: 0.5774 - val_binary_accuracy: 0.7359\n",
      "Epoch 9/10\n",
      "3/3 [==============================] - 0s 59ms/step - loss: 0.5848 - binary_accuracy: 0.7284 - val_loss: 0.5774 - val_binary_accuracy: 0.7359\n",
      "Epoch 10/10\n",
      "3/3 [==============================] - 0s 57ms/step - loss: 0.5848 - binary_accuracy: 0.7284 - val_loss: 0.5774 - val_binary_accuracy: 0.7359\n"
     ]
    }
   ],
   "source": [
    "model = tf.keras.Sequential([\n",
    "#     tf.keras.layers.Flatten(input_shape=(MAX_TOKEN*2, )),\n",
    "    tf.keras.layers.Dense(128, name='Input', activation='relu'),\n",
    "    tf.keras.layers.Dense(128, activation='relu', name='Hidden'),\n",
    "    tf.keras.layers.Dropout(.4),\n",
    "    tf.keras.layers.Dense(1, activation='softmax', name='Softmax_Activation')\n",
    "])\n",
    "\n",
    "log_dir = \"logs/fit/\" + datetime.datetime.now().strftime(\"%Y%m%d-%H%M%S\")\n",
    "tensorboard_callback = tf.keras.callbacks.TensorBoard(log_dir=log_dir, histogram_freq=1)\n",
    "\n",
    "model.compile(optimizer='adam',\n",
    "              loss=tf.keras.losses.BinaryCrossentropy(from_logits=True),\n",
    "              metrics=['binary_accuracy'])\n",
    "\n",
    "history = model.fit(train, validation_data=val, epochs=10, callbacks=[tensorboard_callback])"
   ]
  },
  {
   "cell_type": "code",
   "execution_count": 109,
   "metadata": {},
   "outputs": [
    {
     "name": "stdout",
     "output_type": "stream",
     "text": [
      "Model: \"sequential_13\"\n",
      "_________________________________________________________________\n",
      "Layer (type)                 Output Shape              Param #   \n",
      "=================================================================\n",
      "Input (Dense)                (None, 128)               16512     \n",
      "_________________________________________________________________\n",
      "Hidden (Dense)               (None, 128)               16512     \n",
      "_________________________________________________________________\n",
      "dropout_4 (Dropout)          (None, 128)               0         \n",
      "_________________________________________________________________\n",
      "Softmax_Activation (Dense)   (None, 1)                 129       \n",
      "=================================================================\n",
      "Total params: 33,153\n",
      "Trainable params: 33,153\n",
      "Non-trainable params: 0\n",
      "_________________________________________________________________\n"
     ]
    }
   ],
   "source": [
    "model.summary()"
   ]
  },
  {
   "cell_type": "code",
   "execution_count": 133,
   "metadata": {},
   "outputs": [
    {
     "data": {
      "image/png": "[encoded data removed]",
      "text/plain": [
       "<Figure size 432x288 with 1 Axes>"
      ]
     },
     "metadata": {
      "needs_background": "light"
     },
     "output_type": "display_data"
    }
   ],
   "source": [
    "history_dict = history.history\n",
    "acc = history_dict['binary_accuracy']\n",
    "val_acc = history_dict['val_binary_accuracy']\n",
    "loss = history_dict['loss']\n",
    "val_loss = history_dict['val_loss']\n",
    "\n",
    "epochs = range(1, len(acc) + 1)\n",
    "\n",
    "# \"bo\" is for \"blue dot\"\n",
    "plt.plot(epochs, loss, 'bo', label='Training loss')\n",
    "# b is for \"solid blue line\"\n",
    "plt.plot(epochs, val_loss, 'b', label='Validation loss')\n",
    "plt.title('Training and validation loss')\n",
    "plt.xlabel('Epochs')\n",
    "plt.ylabel('Loss')\n",
    "plt.legend()\n",
    "\n",
    "plt.show()"
   ]
  },
  {
   "cell_type": "code",
   "execution_count": null,
   "metadata": {},
   "outputs": [],
   "source": [
    "history_dict.keys()"
   ]
  },
  {
   "cell_type": "code",
   "execution_count": null,
   "metadata": {},
   "outputs": [],
   "source": []
  }
 ],
 "metadata": {
  "environment": {
   "name": "tf2-2-3-gpu.2-3.m59",
   "type": "gcloud",
   "uri": "gcr.io/deeplearning-platform-release/tf2-2-3-gpu.2-3:m59"
  },
  "kernelspec": {
   "display_name": "Python 3",
   "language": "python",
   "name": "python3"
  },
  "language_info": {
   "codemirror_mode": {
    "name": "ipython",
    "version": 3
   },
   "file_extension": ".py",
   "mimetype": "text/x-python",
   "name": "python",
   "nbconvert_exporter": "python",
   "pygments_lexer": "ipython3",
   "version": "3.7.8"
  }
 },
 "nbformat": 4,
 "nbformat_minor": 4
}
